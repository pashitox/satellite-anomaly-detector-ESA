{
 "cells": [
  {
   "cell_type": "code",
   "execution_count": 1,
   "id": "aa5a52a0",
   "metadata": {},
   "outputs": [],
   "source": [
    "import os\n",
    "from pathlib import Path\n",
    "import pandas as pd\n",
    "import time\n",
    "\n",
    "class Config:\n",
    "    BASE_DIR = Path(\"../DATA\")\n",
    "    MISSIONS = [\"ESA-Mission1\", \"ESA-Mission2\", \"ESA-Mission3\"]\n",
    "    FILE_MAP = {\n",
    "        'anomalies': 'anomaly_types.csv',\n",
    "        'channels': 'channels.csv',\n",
    "        'labels': 'labels.csv',\n",
    "        'telecommands': 'telecommands.csv',\n",
    "        'events': 'events.csv'\n",
    "    }\n",
    "\n",
    "    @classmethod\n",
    "    def setup_paths(cls):\n",
    "        start_time = time.time()\n",
    "        print(\"\\n🔧 [CONFIG] Iniciando configuración de rutas...\")\n",
    "        print(f\"📁 Directorio base: {cls.BASE_DIR.resolve()}\")\n",
    "        print(f\"🛰 Misiones disponibles: {', '.join(cls.MISSIONS)}\")\n",
    "\n",
    "        if not cls.BASE_DIR.exists():\n",
    "            print(\"❌ [ERROR] El directorio base no existe.\")\n",
    "            return False\n",
    "\n",
    "        print(f\"✅ [CONFIG] Rutas configuradas correctamente en {time.time() - start_time:.2f} segundos.\\n\")\n",
    "        return True\n"
   ]
  },
  {
   "cell_type": "code",
   "execution_count": 2,
   "id": "79525d30",
   "metadata": {},
   "outputs": [
    {
     "name": "stdout",
     "output_type": "stream",
     "text": [
      "📁 Directorio actual: c:\\Users\\JMGY-\\Documents\\satellite-anomaly-detector-ESA\\NOTEBOOK\n",
      "📂 Archivos en este directorio: ['.ipynb_checkpoints', '.jupyter', '01_EDA.ipynb', '02_review_Advance_Anomalias.ipynb', '03_Model_Training.ipynb', '04_Events _vs_Comand.ipynb', '05_Interpretabilidad_SHAP.ipynb', '06_Proyeccion_anomalias_por_Mision.ipynb', 'artifacts', 'benchmark_modelos.png', 'data', 'figures', 'label_encoder_y.joblib', 'models', 'reports', 'shap_class_0.png', 'shap_class_1.png', 'shap_class_10.png', 'shap_class_11.png', 'shap_class_12.png', 'shap_class_13.png', 'shap_class_14.png', 'shap_class_15.png', 'shap_class_16.png', 'shap_class_17.png', 'shap_class_18.png', 'shap_class_19.png', 'shap_class_2.png', 'shap_class_20.png', 'shap_class_21.png', 'shap_class_22.png', 'shap_class_23.png', 'shap_class_24.png', 'shap_class_25.png', 'shap_class_26.png', 'shap_class_27.png', 'shap_class_28.png', 'shap_class_29.png', 'shap_class_3.png', 'shap_class_30.png', 'shap_class_31.png', 'shap_class_32.png', 'shap_class_33.png', 'shap_class_34.png', 'shap_class_35.png', 'shap_class_36.png', 'shap_class_37.png', 'shap_class_38.png', 'shap_class_39.png', 'shap_class_4.png', 'shap_class_40.png', 'shap_class_41.png', 'shap_class_42.png', 'shap_class_43.png', 'shap_class_44.png', 'shap_class_45.png', 'shap_class_46.png', 'shap_class_47.png', 'shap_class_48.png', 'shap_class_49.png', 'shap_class_5.png', 'shap_class_50.png', 'shap_class_51.png', 'shap_class_52.png', 'shap_class_6.png', 'shap_class_7.png', 'shap_class_8.png', 'shap_class_9.png']\n",
      "📂 Archivos en ../ : ['.git', '.gitignore', 'DATA', 'INSTALL.md', 'LICENSE', 'NOTEBOOK', 'PROCESSED', 'README.md', 'REPORTS', 'requirements.txt', 'SRC']\n",
      "📂 Archivos en ../src : ['Build_features.py', 'config.py', 'detector.py', 'feature_engineering.py', 'load_data.py', 'main.py', 'predict_model.py', 'preprocess.py', '__init__.py', '__pycache__']\n"
     ]
    }
   ],
   "source": [
    "import os\n",
    "print(\"📁 Directorio actual:\", os.getcwd())\n",
    "print(\"📂 Archivos en este directorio:\", os.listdir())\n",
    "print(\"📂 Archivos en ../ :\", os.listdir(\"../\"))\n",
    "print(\"📂 Archivos en ../src :\", os.listdir(\"../src\"))\n",
    "\n",
    "\n"
   ]
  },
  {
   "cell_type": "code",
   "execution_count": 3,
   "id": "221533dd",
   "metadata": {},
   "outputs": [
    {
     "name": "stdout",
     "output_type": "stream",
     "text": [
      "\n",
      "🔧 [CONFIG] Iniciando configuración de rutas...\n",
      "📁 Directorio base: C:\\Users\\JMGY-\\Documents\\satellite-anomaly-detector-ESA\\DATA\n",
      "🛰 Misiones disponibles: ESA-Mission1, ESA-Mission2, ESA-Mission3\n",
      "✅ [CONFIG] Rutas configuradas correctamente en 0.00 segundos.\n",
      "\n"
     ]
    },
    {
     "data": {
      "text/plain": [
       "True"
      ]
     },
     "execution_count": 3,
     "metadata": {},
     "output_type": "execute_result"
    }
   ],
   "source": [
    "import sys\n",
    "sys.path.append(\"../src\")  # Agregamos la carpeta src al path\n",
    "\n",
    "from config import Config\n",
    "\n",
    "# Validamos que las rutas estén bien\n",
    "Config.setup_paths()\n",
    "\n"
   ]
  },
  {
   "cell_type": "code",
   "execution_count": 4,
   "id": "5ca177cf",
   "metadata": {},
   "outputs": [
    {
     "name": "stdout",
     "output_type": "stream",
     "text": [
      "\n",
      "🔧 [CONFIG] Iniciando configuración de rutas...\n",
      "📁 Directorio base: C:\\Users\\JMGY-\\Documents\\satellite-anomaly-detector-ESA\\DATA\n",
      "🛰 Misiones disponibles: ESA-Mission1, ESA-Mission2, ESA-Mission3\n",
      "✅ [CONFIG] Rutas configuradas correctamente en 0.00 segundos.\n",
      "\n",
      "\n",
      "============================================================\n",
      "🚀 INICIANDO CARGA DE DATOS DE TODAS LAS MISIONES\n",
      "============================================================\n"
     ]
    },
    {
     "name": "stderr",
     "output_type": "stream",
     "text": [
      "🛰 Procesando misiones:   0%|          | 0/3 [00:00<?, ?it/s]"
     ]
    },
    {
     "name": "stdout",
     "output_type": "stream",
     "text": [
      "\n",
      "📦 [MISIÓN] Cargando datos de: ESA-Mission1\n"
     ]
    },
    {
     "name": "stderr",
     "output_type": "stream",
     "text": [
      "Cargando archivos de ESA-Mission1: 100%|██████████| 5/5 [00:00<00:00, 159.17it/s]\n"
     ]
    },
    {
     "name": "stdout",
     "output_type": "stream",
     "text": [
      "   ✅ anomaly_types.csv    →     200 filas\n",
      "   ✅ channels.csv         →      76 filas\n",
      "   ✅ labels.csv           →   3,589 filas\n",
      "   ✅ telecommands.csv     →     698 filas\n",
      "   ⚠️ Archivo no encontrado: events.csv\n",
      "⏱️  Tiempo de carga para ESA-Mission1: 0.04 segundos\n",
      "\n",
      "📦 [MISIÓN] Cargando datos de: ESA-Mission2\n"
     ]
    },
    {
     "name": "stderr",
     "output_type": "stream",
     "text": [
      "Cargando archivos de ESA-Mission2: 100%|██████████| 5/5 [00:00<00:00, 158.52it/s]"
     ]
    },
    {
     "name": "stdout",
     "output_type": "stream",
     "text": [
      "   ✅ anomaly_types.csv    →     644 filas\n",
      "   ✅ channels.csv         →     100 filas\n",
      "   ✅ labels.csv           →  11,167 filas\n",
      "   ✅ telecommands.csv     →     123 filas\n",
      "   ✅ events.csv           →     604 filas\n",
      "⏱️  Tiempo de carga para ESA-Mission2: 0.04 segundos\n"
     ]
    },
    {
     "name": "stderr",
     "output_type": "stream",
     "text": [
      "\n"
     ]
    },
    {
     "name": "stdout",
     "output_type": "stream",
     "text": [
      "\n",
      "📦 [MISIÓN] Cargando datos de: ESA-Mission3\n"
     ]
    },
    {
     "name": "stderr",
     "output_type": "stream",
     "text": [
      "Cargando archivos de ESA-Mission3: 100%|██████████| 5/5 [00:00<00:00, 258.27it/s]"
     ]
    },
    {
     "name": "stdout",
     "output_type": "stream",
     "text": [
      "   ✅ anomaly_types.csv    →     586 filas\n",
      "   ✅ channels.csv         →      48 filas\n",
      "   ✅ labels.csv           →   2,586 filas\n",
      "   ⚠️ Archivo no encontrado: telecommands.csv\n",
      "   ⚠️ Archivo no encontrado: events.csv\n",
      "⏱️  Tiempo de carga para ESA-Mission3: 0.02 segundos\n"
     ]
    },
    {
     "name": "stderr",
     "output_type": "stream",
     "text": [
      "\n",
      "🛰 Procesando misiones: 100%|██████████| 3/3 [00:00<00:00, 31.07it/s]"
     ]
    },
    {
     "name": "stdout",
     "output_type": "stream",
     "text": [
      "\n",
      "✅ Todas las misiones cargadas.\n",
      "⏱️  Tiempo total: 0.11 segundos\n",
      "\n",
      "\n",
      "📊 Resumen de datos cargados:\n",
      " - ESA-Mission1:\n",
      "    anomalies: 200 filas, 7 columnas\n",
      "    channels: 76 filas, 5 columnas\n",
      "    labels: 3589 filas, 4 columnas\n",
      "    telecommands: 698 filas, 2 columnas\n",
      " - ESA-Mission2:\n",
      "    anomalies: 644 filas, 7 columnas\n",
      "    channels: 100 filas, 5 columnas\n",
      "    labels: 11167 filas, 4 columnas\n",
      "    telecommands: 123 filas, 2 columnas\n",
      "    events: 604 filas, 3 columnas\n",
      " - ESA-Mission3:\n",
      "    anomalies: 586 filas, 7 columnas\n",
      "    channels: 48 filas, 5 columnas\n",
      "    labels: 2586 filas, 4 columnas\n"
     ]
    },
    {
     "name": "stderr",
     "output_type": "stream",
     "text": [
      "\n"
     ]
    }
   ],
   "source": [
    "from pathlib import Path\n",
    "import pandas as pd\n",
    "from tqdm import tqdm\n",
    "import time\n",
    "import traceback\n",
    "\n",
    "class Config:\n",
    "    BASE_DIR = Path(\"../DATA\")\n",
    "    MISSIONS = [\"ESA-Mission1\", \"ESA-Mission2\", \"ESA-Mission3\"]\n",
    "    FILE_MAP = {\n",
    "        'anomalies': 'anomaly_types.csv',\n",
    "        'channels': 'channels.csv',\n",
    "        'labels': 'labels.csv',\n",
    "        'telecommands': 'telecommands.csv',\n",
    "        'events': 'events.csv'\n",
    "    }\n",
    "    \n",
    "    @classmethod\n",
    "    def setup_paths(cls):\n",
    "        start_time = time.time()\n",
    "        print(\"\\n🔧 [CONFIG] Iniciando configuración de rutas...\")\n",
    "        print(f\"📁 Directorio base: {cls.BASE_DIR.resolve()}\")\n",
    "        print(f\"🛰 Misiones disponibles: {', '.join(cls.MISSIONS)}\")\n",
    "\n",
    "        if not cls.BASE_DIR.exists():\n",
    "            print(\"❌ [ERROR] El directorio base no existe. Verifica la ruta.\")\n",
    "            return False\n",
    "\n",
    "        print(f\"✅ [CONFIG] Rutas configuradas correctamente en {time.time() - start_time:.2f} segundos.\\n\")\n",
    "        return True\n",
    "\n",
    "class DataLoader:\n",
    "    def __init__(self):\n",
    "        self.mission_data = {}\n",
    "\n",
    "    def _load_single_file(self, mission_path: Path, filename: str):\n",
    "        try:\n",
    "            file_path = mission_path / filename\n",
    "            if file_path.exists():\n",
    "                df = pd.read_csv(file_path, low_memory=False)\n",
    "                return df\n",
    "            print(f\"   ⚠️ Archivo no encontrado: {filename}\")\n",
    "            return None\n",
    "        except Exception as e:\n",
    "            print(f\"❌ Error cargando {filename}: {str(e)}\")\n",
    "            traceback.print_exc()\n",
    "            return None\n",
    "\n",
    "    def load_mission(self, mission_name: str):\n",
    "        start = time.time()\n",
    "        mission_path = Config.BASE_DIR / mission_name / mission_name\n",
    "        if not mission_path.exists():\n",
    "            raise FileNotFoundError(f\"❌ Directorio no encontrado: {mission_path}\")\n",
    "        \n",
    "        mission_dict = {}\n",
    "        print(f\"\\n📦 [MISIÓN] Cargando datos de: {mission_name}\")\n",
    "\n",
    "        for data_type, filename in tqdm(Config.FILE_MAP.items(), desc=f\"Cargando archivos de {mission_name}\"):\n",
    "            df = self._load_single_file(mission_path, filename)\n",
    "            if df is not None:\n",
    "                mission_dict[data_type] = df\n",
    "                print(f\"   ✅ {filename:<20} → {df.shape[0]:>7,} filas\")\n",
    "\n",
    "        elapsed = time.time() - start\n",
    "        print(f\"⏱️  Tiempo de carga para {mission_name}: {elapsed:.2f} segundos\")\n",
    "        return mission_dict\n",
    "\n",
    "    def load_all_missions(self):\n",
    "        global_start = time.time()\n",
    "        print(\"\\n\" + \"=\"*60)\n",
    "        print(\"🚀 INICIANDO CARGA DE DATOS DE TODAS LAS MISIONES\")\n",
    "        print(\"=\"*60)\n",
    "        \n",
    "        for mission in tqdm(Config.MISSIONS, desc=\"🛰 Procesando misiones\"):\n",
    "            try:\n",
    "                self.mission_data[mission] = self.load_mission(mission)\n",
    "            except Exception as e:\n",
    "                print(f\"\\n❌ Error en misión {mission}: {str(e)}\")\n",
    "                traceback.print_exc()\n",
    "        \n",
    "        total_elapsed = time.time() - global_start\n",
    "        print(\"\\n✅ Todas las misiones cargadas.\")\n",
    "        print(f\"⏱️  Tiempo total: {total_elapsed:.2f} segundos\\n\")\n",
    "        return self.mission_data\n",
    "\n",
    "\n",
    "# Código para ejecutar y probar la carga:\n",
    "if __name__ == \"__main__\":\n",
    "    Config.setup_paths()\n",
    "    loader = DataLoader()\n",
    "    data = loader.load_all_missions()\n",
    "\n",
    "    print(\"\\n📊 Resumen de datos cargados:\")\n",
    "    for mission, datasets in data.items():\n",
    "        print(f\" - {mission}:\")\n",
    "        for key, df in datasets.items():\n",
    "            print(f\"    {key}: {df.shape[0]} filas, {df.shape[1]} columnas\")\n"
   ]
  },
  {
   "cell_type": "code",
   "execution_count": 5,
   "id": "09214c4c",
   "metadata": {},
   "outputs": [
    {
     "name": "stdout",
     "output_type": "stream",
     "text": [
      "C:\\Users\\JMGY-\\AppData\\Local\\Microsoft\\WindowsApps\\PythonSoftwareFoundation.Python.3.11_qbz5n2kfra8p0\\python.exe\n"
     ]
    }
   ],
   "source": [
    "import sys\n",
    "print(sys.executable)"
   ]
  },
  {
   "cell_type": "code",
   "execution_count": null,
   "id": "2ee00ccc",
   "metadata": {},
   "outputs": [
    {
     "name": "stdout",
     "output_type": "stream",
     "text": [
      "✅ Archivo de prueba creado en data/nuevos_eventos.csv\n"
     ]
    }
   ],
   "source": [
    "import pandas as pd\n",
    "import os\n",
    "\n",
    "# Crear carpeta si no existe\n",
    "os.makedirs(\"data\", exist_ok=True)\n",
    "\n",
    "# Crear datos simulados (revisá si estas columnas coinciden con tus features)\n",
    "df_nuevos = pd.DataFrame([\n",
    "    {\"Dimensionality\": 1, \"Length\": 25, \"Category\": 2, \"Locality\": 1, \"Subclass\": 0, \"mission\": \"mission_1\"},\n",
    "    {\"Dimensionality\": 2, \"Length\": 12, \"Category\": 1, \"Locality\": 3, \"Subclass\": 1, \"mission\": \"mission_2\"}\n",
    "])\n",
    "\n",
    "# Guardar CSV\n",
    "df_nuevos.to_csv(\"data/nuevos_eventos.csv\", index=False)\n",
    "print(\"✅ Archivo de prueba creado en data/nuevos_eventos.csv\")"
   ]
  },
  {
   "cell_type": "code",
   "execution_count": null,
   "id": "ae54a22e",
   "metadata": {},
   "outputs": [
    {
     "name": "stdout",
     "output_type": "stream",
     "text": [
      "F1 Macro promedio (CV=5): 0.072 ± 0.007\n"
     ]
    }
   ],
   "source": [
    "from sklearn.model_selection import cross_val_score\n",
    "\n",
    "# Por ejemplo con Random Forest\n",
    "model = RandomForestClassifier(n_estimators=100, random_state=42)\n",
    "\n",
    "# Ejecutamos validación cruzada de 5 particiones con F1-macro\n",
    "scores = cross_val_score(model, X, y, cv=5, scoring='f1_macro')\n",
    "\n",
    "print(f\"F1 Macro promedio (CV=5): {scores.mean():.3f} ± {scores.std():.3f}\")"
   ]
  },
  {
   "cell_type": "code",
   "execution_count": null,
   "id": "9b3b4ba5",
   "metadata": {},
   "outputs": [
    {
     "data": {
      "image/png": "[encoded data removed]",
      "text/plain": [
       "<Figure size 1000x500 with 1 Axes>"
      ]
     },
     "metadata": {},
     "output_type": "display_data"
    }
   ],
   "source": [
    "import seaborn as sns\n",
    "import matplotlib.pyplot as plt\n",
    "\n",
    "sns.set(style=\"whitegrid\")\n",
    "df_resultados_melted = df_resultados.melt(id_vars='Modelo', var_name='Métrica', value_name='Valor')\n",
    "\n",
    "plt.figure(figsize=(10,5))\n",
    "sns.barplot(data=df_resultados_melted, x='Modelo', y='Valor', hue='Métrica')\n",
    "plt.title(\"Comparativa de modelos\")\n",
    "plt.ylabel(\"Puntaje\")\n",
    "plt.tight_layout()\n",
    "plt.savefig(\"benchmark_modelos.png\")\n",
    "plt.show()"
   ]
  },
  {
   "cell_type": "code",
   "execution_count": null,
   "id": "d7972be9",
   "metadata": {},
   "outputs": [
    {
     "name": "stdout",
     "output_type": "stream",
     "text": [
      "Fitting 5 folds for each of 20 candidates, totalling 100 fits\n",
      "\n",
      "✅ Mejor combinación encontrada:\n",
      "{'n_estimators': 100, 'min_samples_split': 10, 'min_samples_leaf': 4, 'max_depth': 10}\n",
      "\n",
      "🎯 Macro F1 de validación cruzada:\n",
      "0.06378643681296572\n"
     ]
    }
   ],
   "source": [
    "from sklearn.ensemble import RandomForestClassifier\n",
    "from sklearn.model_selection import RandomizedSearchCV\n",
    "from sklearn.metrics import make_scorer, f1_score\n",
    "\n",
    "# Definimos el modelo base\n",
    "modelo_rf = RandomForestClassifier(random_state=42, class_weight='balanced')\n",
    "\n",
    "# Espacio de hiperparámetros a explorar\n",
    "param_dist = {\n",
    "    'n_estimators': [100, 200, 300, 400],\n",
    "    'max_depth': [5, 10, 15, 20, None],\n",
    "    'min_samples_split': [2, 5, 10],\n",
    "    'min_samples_leaf': [1, 2, 4]\n",
    "}\n",
    "\n",
    "# Búsqueda aleatoria\n",
    "busqueda = RandomizedSearchCV(\n",
    "    estimator=modelo_rf,\n",
    "    param_distributions=param_dist,\n",
    "    n_iter=20,  # cuántas combinaciones probar\n",
    "    cv=5,\n",
    "    scoring=make_scorer(f1_score, average='macro'),\n",
    "    n_jobs=-1,\n",
    "    verbose=1,\n",
    "    random_state=42\n",
    ")\n",
    "\n",
    "# Entrenamos\n",
    "busqueda.fit(X_train, y_train)\n",
    "\n",
    "# Resultados\n",
    "print(f\"\\n✅ Mejor combinación encontrada:\")\n",
    "print(busqueda.best_params_)\n",
    "\n",
    "print(\"\\n🎯 Macro F1 de validación cruzada:\")\n",
    "print(busqueda.best_score_)"
   ]
  },
  {
   "cell_type": "code",
   "execution_count": null,
   "id": "1cee67d3",
   "metadata": {},
   "outputs": [
    {
     "name": "stdout",
     "output_type": "stream",
     "text": [
      "✅ Modelo XGBoost guardado como modelo_ganador_xgb.joblib\n"
     ]
    }
   ],
   "source": [
    "import joblib\n",
    "joblib.dump(XGBClassifier(use_label_encoder=False, eval_metric='mlogloss', random_state=42).fit(X_train, y_train), \"modelo_ganador_xgb.joblib\")\n",
    "print(\"✅ Modelo XGBoost guardado como modelo_ganador_xgb.joblib\")"
   ]
  }
 ],
 "metadata": {
  "kernelspec": {
   "display_name": "Python 3",
   "language": "python",
   "name": "python3"
  },
  "language_info": {
   "codemirror_mode": {
    "name": "ipython",
    "version": 3
   },
   "file_extension": ".py",
   "mimetype": "text/x-python",
   "name": "python",
   "nbconvert_exporter": "python",
   "pygments_lexer": "ipython3",
   "version": "3.11.9"
  }
 },
 "nbformat": 4,
 "nbformat_minor": 5
}
