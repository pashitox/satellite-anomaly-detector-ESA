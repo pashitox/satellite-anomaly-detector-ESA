{
 "cells": [
  {
   "cell_type": "markdown",
   "id": "e6a0ba89",
   "metadata": {},
   "source": [
    "# ESA Dataset Conversion"
   ]
  },
  {
   "cell_type": "code",
   "execution_count": 9,
   "id": "f6df66f6",
   "metadata": {},
   "outputs": [
    {
     "name": "stdout",
     "output_type": "stream",
     "text": [
      "✅ Archivo guardado correctamente en:\n",
      " C:\\Users\\JMGY-\\Documents\\satellite-anomaly-detector-ESA\\DATA\\dashboard_data\\satellite-anomalies.csv\n"
     ]
    }
   ],
   "source": [
    "# 🛰️ Fase 1: Importar librerías\n",
    "import pandas as pd\n",
    "import numpy as np\n",
    "import os\n",
    "\n",
    "# 📂 Fase 2: Ruta base del proyecto\n",
    "base_path = r\"C:\\Users\\JMGY-\\Documents\\satellite-anomaly-detector-ESA\\DATA\\ESA-Mission1\\ESA-Mission1\\\\\"\n",
    "\n",
    "# ✅ Fase 3: Cargar los archivos esenciales\n",
    "labels = pd.read_csv(base_path + \"labels.csv\")\n",
    "anomaly_types = pd.read_csv(base_path + \"anomaly_types.csv\")\n",
    "\n",
    "# 🔗 Fase 4: Fusionar por ID\n",
    "df = labels.merge(anomaly_types, how=\"left\", on=\"ID\")\n",
    "\n",
    "# 🧮 Fase 5: Simular columnas para visualización\n",
    "np.random.seed(42)\n",
    "df[\"severity\"] = np.random.randint(1, 6, size=len(df))\n",
    "df[\"orbital_region\"] = np.random.choice([\"LEO\", \"GEO\", \"Polar\"], size=len(df))\n",
    "df[\"system_component\"] = np.random.choice([\n",
    "    \"Power Bus\", \"Thermal Control\", \"Comm Module\", \"Sensor Array\", \"Flight Computer\"\n",
    "], size=len(df))\n",
    "\n",
    "# 🧠 Fase 6: Renombrar columnas clave\n",
    "df.rename(columns={\n",
    "    \"StartTime\": \"timestamp\",\n",
    "    \"Channel\": \"mission\",\n",
    "    \"Class\": \"Class\",\n",
    "    \"Category\": \"AnomalyName\"\n",
    "}, inplace=True)\n",
    "\n",
    "# 📁 Fase 7: Definir ruta final dentro de DATA\n",
    "output_folder = r\"C:\\Users\\JMGY-\\Documents\\satellite-anomaly-detector-ESA\\DATA\\dashboard_data\"\n",
    "output_file = \"satellite-anomalies.csv\"\n",
    "os.makedirs(output_folder, exist_ok=True)\n",
    "\n",
    "# 💾 Fase 8: Exportar archivo\n",
    "output_path = os.path.join(output_folder, output_file)\n",
    "df.to_csv(output_path, index=False)\n",
    "\n",
    "# ✅ Confirmación\n",
    "print(\"✅ Archivo guardado correctamente en:\\n\", output_path)"
   ]
  }
 ],
 "metadata": {
  "kernelspec": {
   "display_name": "Python 3",
   "language": "python",
   "name": "python3"
  },
  "language_info": {
   "codemirror_mode": {
    "name": "ipython",
    "version": 3
   },
   "file_extension": ".py",
   "mimetype": "text/x-python",
   "name": "python",
   "nbconvert_exporter": "python",
   "pygments_lexer": "ipython3",
   "version": "3.11.9"
  }
 },
 "nbformat": 4,
 "nbformat_minor": 5
}
