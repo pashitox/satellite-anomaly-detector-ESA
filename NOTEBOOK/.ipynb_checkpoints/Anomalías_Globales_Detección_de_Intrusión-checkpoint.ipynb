{
 "cells": [
  {
   "cell_type": "markdown",
   "id": "3b756b6f-2dc6-4f6b-a4ad-9de54d307739",
   "metadata": {},
   "source": [
    "# 🔍 Fase 1: Revisión de la Anomalía Global ID 134"
   ]
  },
  {
   "cell_type": "code",
   "execution_count": 27,
   "id": "144af1d4-83b3-4c20-a1e7-13a01dd841f5",
   "metadata": {},
   "outputs": [
    {
     "name": "stdout",
     "output_type": "stream",
     "text": [
      "Archivos en ESA-Mission2/ESA-Mission2: ['anomaly_types.csv', 'channels', 'channels.csv', 'events.csv', 'labels.csv', 'telecommands', 'telecommands.csv']\n"
     ]
    }
   ],
   "source": [
    "import os\n",
    "double_check_path = r\"C:\\Users\\JMGY-\\Documents\\Advance-data-analitic\\5.5 PROYECTO NASA\\DATA\\ESA-Mission2\\ESA-Mission2\"\n",
    "print(\"Archivos en ESA-Mission2/ESA-Mission2:\", os.listdir(double_check_path))"
   ]
  },
  {
   "cell_type": "code",
   "execution_count": null,
   "id": "17b36699-4f9f-4506-ae45-e7884c2f843f",
   "metadata": {},
   "outputs": [],
   "source": [
    "from load_data import load_mission_data\n",
    "\n",
    "# Carga los datos (la función ahora buscará en la ruta correcta)\n",
    "try:\n",
    "    df = load_mission_data('ESA-Mission2', date_range=('2009-05-01', '2009-07-30'))\n",
    "    print(\"✅ Datos cargados correctamente!\")\n",
    "    print(f\"Registros: {len(df)} | Columnas: {df.columns.tolist()}\")\n",
    "except Exception as e:\n",
    "    print(f\"🔴 Error: {str(e)}\")"
   ]
  },
  {
   "cell_type": "code",
   "execution_count": 24,
   "id": "45f83bd1-b951-44e5-9f42-f0a510902f92",
   "metadata": {},
   "outputs": [],
   "source": [
    "import sys\n",
    "import os\n",
    "\n",
    "# Obtén la ruta al directorio raíz del proyecto\n",
    "project_root = os.path.abspath(os.path.join('..'))\n",
    "\n",
    "# Verifica que SRC esté en el path\n",
    "src_path = os.path.join(project_root, 'SRC')\n",
    "if os.path.exists(src_path) and src_path not in sys.path:\n",
    "    sys.path.insert(0, src_path)\n",
    "\n",
    "# Ahora los imports funcionarán\n",
    "from load_data import load_mission_data\n",
    "from preprocess import SatelliteDataCleaner as clean_telemetry  # Alias para compatibilidad"
   ]
  },
  {
   "cell_type": "code",
   "execution_count": 25,
   "id": "da66a0b1-48aa-4eef-9811-b997ffee8a1d",
   "metadata": {},
   "outputs": [
    {
     "name": "stdout",
     "output_type": "stream",
     "text": [
      "Archivos en ESA-Mission2: ['ESA-Mission2']\n"
     ]
    }
   ],
   "source": [
    "import os\n",
    "mission_path = r\"C:\\Users\\JMGY-\\Documents\\Advance-data-analitic\\5.5 PROYECTO NASA\\DATA\\ESA-Mission2\"\n",
    "print(\"Archivos en ESA-Mission2:\", os.listdir(mission_path))"
   ]
  },
  {
   "cell_type": "code",
   "execution_count": 26,
   "id": "714eb9a7-8102-45db-9bb7-e1455457371f",
   "metadata": {
    "jupyter": {
     "source_hidden": true
    },
    "scrolled": true
   },
   "outputs": [
    {
     "ename": "FileNotFoundError",
     "evalue": "🚨 Archivo crítico no encontrado: C:\\Users\\JMGY-\\Documents\\Advance-data-analitic\\5.5 PROYECTO NASA\\data\\ESA-ESA-Mission2\\telemetry.csv",
     "output_type": "error",
     "traceback": [
      "\u001b[1;31m---------------------------------------------------------------------------\u001b[0m",
      "\u001b[1;31mFileNotFoundError\u001b[0m                         Traceback (most recent call last)",
      "Cell \u001b[1;32mIn[26], line 8\u001b[0m\n\u001b[0;32m      5\u001b[0m \u001b[38;5;28;01mfrom\u001b[39;00m \u001b[38;5;21;01mpreprocess\u001b[39;00m \u001b[38;5;28;01mimport\u001b[39;00m SatelliteDataCleaner \u001b[38;5;28;01mas\u001b[39;00m clean_telemetry  \u001b[38;5;66;03m# Alias para compatibilidad\u001b[39;00m\n\u001b[0;32m      7\u001b[0m \u001b[38;5;66;03m# Cargar datos específicos del período crítico\u001b[39;00m\n\u001b[1;32m----> 8\u001b[0m df \u001b[38;5;241m=\u001b[39m \u001b[43mload_mission_data\u001b[49m\u001b[43m(\u001b[49m\u001b[38;5;124;43m'\u001b[39;49m\u001b[38;5;124;43mESA-Mission2\u001b[39;49m\u001b[38;5;124;43m'\u001b[39;49m\u001b[43m,\u001b[49m\u001b[43m \u001b[49m\u001b[43mdate_range\u001b[49m\u001b[38;5;241;43m=\u001b[39;49m\u001b[43m(\u001b[49m\u001b[38;5;124;43m'\u001b[39;49m\u001b[38;5;124;43m2009-05-01\u001b[39;49m\u001b[38;5;124;43m'\u001b[39;49m\u001b[43m,\u001b[49m\u001b[43m \u001b[49m\u001b[38;5;124;43m'\u001b[39;49m\u001b[38;5;124;43m2009-07-30\u001b[39;49m\u001b[38;5;124;43m'\u001b[39;49m\u001b[43m)\u001b[49m\u001b[43m)\u001b[49m\n\u001b[0;32m      9\u001b[0m anomaly_data \u001b[38;5;241m=\u001b[39m df[df[\u001b[38;5;124m'\u001b[39m\u001b[38;5;124mAnomaly_ID\u001b[39m\u001b[38;5;124m'\u001b[39m] \u001b[38;5;241m==\u001b[39m \u001b[38;5;241m134\u001b[39m]\u001b[38;5;241m.\u001b[39msort_values(\u001b[38;5;124m'\u001b[39m\u001b[38;5;124mTimestamp\u001b[39m\u001b[38;5;124m'\u001b[39m)\n\u001b[0;32m     11\u001b[0m \u001b[38;5;66;03m# Análisis de canales afectados\u001b[39;00m\n",
      "File \u001b[1;32m~\\Documents\\Advance-data-analitic\\5.5 PROYECTO NASA\\SRC\\load_data.py:33\u001b[0m, in \u001b[0;36mload_mission_data\u001b[1;34m(mission_name, date_range, sample_fraction)\u001b[0m\n\u001b[0;32m     31\u001b[0m \u001b[38;5;28;01mfor\u001b[39;00m file \u001b[38;5;129;01min\u001b[39;00m files\u001b[38;5;241m.\u001b[39mvalues():\n\u001b[0;32m     32\u001b[0m     \u001b[38;5;28;01mif\u001b[39;00m \u001b[38;5;129;01mnot\u001b[39;00m file\u001b[38;5;241m.\u001b[39mexists():\n\u001b[1;32m---> 33\u001b[0m         \u001b[38;5;28;01mraise\u001b[39;00m \u001b[38;5;167;01mFileNotFoundError\u001b[39;00m(\u001b[38;5;124mf\u001b[39m\u001b[38;5;124m\"\u001b[39m\u001b[38;5;124m🚨 Archivo crítico no encontrado: \u001b[39m\u001b[38;5;132;01m{\u001b[39;00mfile\u001b[38;5;132;01m}\u001b[39;00m\u001b[38;5;124m\"\u001b[39m)\n\u001b[0;32m     35\u001b[0m \u001b[38;5;28;01mtry\u001b[39;00m:\n\u001b[0;32m     36\u001b[0m     \u001b[38;5;66;03m# Carga optimizada con tipos de datos\u001b[39;00m\n\u001b[0;32m     37\u001b[0m     dtypes \u001b[38;5;241m=\u001b[39m {\n\u001b[0;32m     38\u001b[0m         \u001b[38;5;124m'\u001b[39m\u001b[38;5;124mChannel\u001b[39m\u001b[38;5;124m'\u001b[39m: \u001b[38;5;124m'\u001b[39m\u001b[38;5;124mcategory\u001b[39m\u001b[38;5;124m'\u001b[39m,\n\u001b[0;32m     39\u001b[0m         \u001b[38;5;124m'\u001b[39m\u001b[38;5;124mValue\u001b[39m\u001b[38;5;124m'\u001b[39m: \u001b[38;5;124m'\u001b[39m\u001b[38;5;124mfloat32\u001b[39m\u001b[38;5;124m'\u001b[39m,\n\u001b[0;32m     40\u001b[0m         \u001b[38;5;124m'\u001b[39m\u001b[38;5;124mTimestamp\u001b[39m\u001b[38;5;124m'\u001b[39m: \u001b[38;5;124m'\u001b[39m\u001b[38;5;124mobject\u001b[39m\u001b[38;5;124m'\u001b[39m  \u001b[38;5;66;03m# Se parsea después\u001b[39;00m\n\u001b[0;32m     41\u001b[0m     }\n",
      "\u001b[1;31mFileNotFoundError\u001b[0m: 🚨 Archivo crítico no encontrado: C:\\Users\\JMGY-\\Documents\\Advance-data-analitic\\5.5 PROYECTO NASA\\data\\ESA-ESA-Mission2\\telemetry.csv"
     ]
    }
   ],
   "source": [
    "# Código para análisis forense de la anomalía\n",
    "import pandas as pd\n",
    "import matplotlib.pyplot as plt\n",
    "from load_data import load_mission_data\n",
    "from preprocess import SatelliteDataCleaner as clean_telemetry  # Alias para compatibilidad\n",
    "\n",
    "# Cargar datos específicos del período crítico\n",
    "df = load_mission_data('ESA-Mission2', date_range=('2009-05-01', '2009-07-30'))\n",
    "anomaly_data = df[df['Anomaly_ID'] == 134].sort_values('Timestamp')\n",
    "\n",
    "# Análisis de canales afectados\n",
    "critical_channels = anomaly_data['Channel'].unique()\n",
    "print(f\"🚨 Canales comprometidos: {len(critical_channels)}\")\n",
    "print(f\"📅 Período: {anomaly_data['Timestamp'].min()} a {anomaly_data['Timestamp'].max()}\")\n",
    "print(f\"🔢 Tipos de señales afectadas: {anomaly_data['Signal_Type'].nunique()}\")\n",
    "\n",
    "# Visualización de patrones sospechosos\n",
    "plt.figure(figsize=(12, 6))\n",
    "for channel in critical_channels[:5]:  # Top 5 canales\n",
    "    subset = anomaly_data[anomaly_data['Channel'] == channel]\n",
    "    plt.plot(subset['Timestamp'], subset['Value'], label=f'Channel {channel}', alpha=0.7)\n",
    "plt.axvspan(pd.to_datetime('2009-06-15'), pd.to_datetime('2009-06-20'), \n",
    "            color='red', alpha=0.2, label='Posible intrusión')\n",
    "plt.title('Comportamiento Simultáneo en Canales Críticos (ID 134)')\n",
    "plt.legend()\n",
    "plt.savefig('figures/anomaly_134_patterns.png')"
   ]
  },
  {
   "cell_type": "markdown",
   "id": "3ccc71bc-e3ca-425f-8e50-3def6070a75f",
   "metadata": {},
   "source": [
    "# 🛠️ Fase 2: Análisis Forense Digital"
   ]
  },
  {
   "cell_type": "code",
   "execution_count": 7,
   "id": "01ede76f-9501-4f77-a2ef-a975965d0cd8",
   "metadata": {},
   "outputs": [
    {
     "ename": "ModuleNotFoundError",
     "evalue": "No module named 'src'",
     "output_type": "error",
     "traceback": [
      "\u001b[1;31m---------------------------------------------------------------------------\u001b[0m",
      "\u001b[1;31mModuleNotFoundError\u001b[0m                       Traceback (most recent call last)",
      "Cell \u001b[1;32mIn[7], line 2\u001b[0m\n\u001b[0;32m      1\u001b[0m \u001b[38;5;66;03m# Buscar firmas de ataque conocidas\u001b[39;00m\n\u001b[1;32m----> 2\u001b[0m \u001b[38;5;28;01mfrom\u001b[39;00m \u001b[38;5;21;01msrc\u001b[39;00m\u001b[38;5;21;01m.\u001b[39;00m\u001b[38;5;21;01mfeature_engineering\u001b[39;00m \u001b[38;5;28;01mimport\u001b[39;00m detect_attack_patterns\n\u001b[0;32m      4\u001b[0m \u001b[38;5;66;03m# 1. Detección de inyección de comandos\u001b[39;00m\n\u001b[0;32m      5\u001b[0m command_injection \u001b[38;5;241m=\u001b[39m detect_attack_patterns(\n\u001b[0;32m      6\u001b[0m     anomaly_data,\n\u001b[0;32m      7\u001b[0m     patterns\u001b[38;5;241m=\u001b[39m[\u001b[38;5;124m'\u001b[39m\u001b[38;5;124mOR 1=1\u001b[39m\u001b[38;5;124m'\u001b[39m, \u001b[38;5;124m'\u001b[39m\u001b[38;5;124m; DROP\u001b[39m\u001b[38;5;124m'\u001b[39m, \u001b[38;5;124m'\u001b[39m\u001b[38;5;124mUNION SELECT\u001b[39m\u001b[38;5;124m'\u001b[39m],\n\u001b[0;32m      8\u001b[0m     text_columns\u001b[38;5;241m=\u001b[39m[\u001b[38;5;124m'\u001b[39m\u001b[38;5;124mTelecommand_Log\u001b[39m\u001b[38;5;124m'\u001b[39m]\n\u001b[0;32m      9\u001b[0m )\n",
      "\u001b[1;31mModuleNotFoundError\u001b[0m: No module named 'src'"
     ]
    }
   ],
   "source": [
    "# Buscar firmas de ataque conocidas\n",
    "from src.feature_engineering import detect_attack_patterns\n",
    "\n",
    "# 1. Detección de inyección de comandos\n",
    "command_injection = detect_attack_patterns(\n",
    "    anomaly_data,\n",
    "    patterns=['OR 1=1', '; DROP', 'UNION SELECT'],\n",
    "    text_columns=['Telecommand_Log']\n",
    ")\n",
    "\n",
    "# 2. Análisis de frecuencia anómala (FFT)\n",
    "from scipy import fft\n",
    "frequencies = fft.fft(anomaly_data[anomaly_data['Channel'] == 'COMM_MAIN']['Value'])\n",
    "dominant_freq = np.abs(frequencies[:len(frequencies)//2]).argmax()\n",
    "print(f\"🔊 Frecuencia dominante: {dominant_freq} Hz (esperado: 0.5-2 Hz en operación normal)\")\n",
    "\n",
    "# 3. Entropía de señales (indicador de encriptación/ruido)\n",
    "from scipy.stats import entropy\n",
    "entropy_values = anomaly_data.groupby('Channel')['Value'].apply(\n",
    "    lambda x: entropy(pd.cut(x, bins=20).value_counts(normalize=True))\n",
    ")\n",
    "high_entropy = entropy_values[entropy_values > 2.5]  # Umbral empírico"
   ]
  },
  {
   "cell_type": "markdown",
   "id": "e45c8797-b868-496b-bee2-4c27f6b781f0",
   "metadata": {},
   "source": [
    "🤖 Fase 3: Modelado de Comportamiento Malicioso"
   ]
  },
  {
   "cell_type": "code",
   "execution_count": 8,
   "id": "73c2d7a7-be01-41bb-bb26-b868b58e16e7",
   "metadata": {},
   "outputs": [
    {
     "ename": "ModuleNotFoundError",
     "evalue": "No module named 'src'",
     "output_type": "error",
     "traceback": [
      "\u001b[1;31m---------------------------------------------------------------------------\u001b[0m",
      "\u001b[1;31mModuleNotFoundError\u001b[0m                       Traceback (most recent call last)",
      "Cell \u001b[1;32mIn[8], line 3\u001b[0m\n\u001b[0;32m      1\u001b[0m \u001b[38;5;66;03m# Entrenamiento de modelo de detección de anomalías\u001b[39;00m\n\u001b[0;32m      2\u001b[0m \u001b[38;5;28;01mfrom\u001b[39;00m \u001b[38;5;21;01msklearn\u001b[39;00m\u001b[38;5;21;01m.\u001b[39;00m\u001b[38;5;21;01mensemble\u001b[39;00m \u001b[38;5;28;01mimport\u001b[39;00m IsolationForest\n\u001b[1;32m----> 3\u001b[0m \u001b[38;5;28;01mfrom\u001b[39;00m \u001b[38;5;21;01msrc\u001b[39;00m\u001b[38;5;21;01m.\u001b[39;00m\u001b[38;5;21;01mtrain_model\u001b[39;00m \u001b[38;5;28;01mimport\u001b[39;00m train_anomaly_detector\n\u001b[0;32m      5\u001b[0m \u001b[38;5;66;03m# Datos históricos de intrusiones confirmadas (labels del ESA Security Team)\u001b[39;00m\n\u001b[0;32m      6\u001b[0m intrusion_data \u001b[38;5;241m=\u001b[39m pd\u001b[38;5;241m.\u001b[39mread_csv(\u001b[38;5;124m'\u001b[39m\u001b[38;5;124mdata/ESA-Mission2/known_intrusions.csv\u001b[39m\u001b[38;5;124m'\u001b[39m)\n",
      "\u001b[1;31mModuleNotFoundError\u001b[0m: No module named 'src'"
     ]
    }
   ],
   "source": [
    "# Entrenamiento de modelo de detección de anomalías\n",
    "from sklearn.ensemble import IsolationForest\n",
    "from src.train_model import train_anomaly_detector\n",
    "\n",
    "# Datos históricos de intrusiones confirmadas (labels del ESA Security Team)\n",
    "intrusion_data = pd.read_csv('data/ESA-Mission2/known_intrusions.csv')\n",
    "features = ['Value_Std', 'Packet_Size', 'Command_Rate']\n",
    "\n",
    "model = train_anomaly_detector(\n",
    "    intrusion_data,\n",
    "    features=features,\n",
    "    model_type='isolation_forest',\n",
    "    contamination=0.01\n",
    ")\n",
    "\n",
    "# Aplicar a la anomalía ID 134\n",
    "anomaly_features = anomaly_data.groupby('Channel').agg({\n",
    "    'Value': ['std', 'mean'],\n",
    "    'Packet_Size': 'sum'\n",
    "})\n",
    "anomaly_features.columns = ['Value_Std', 'Value_Mean', 'Packet_Size']\n",
    "\n",
    "predictions = model.predict(anomaly_features)\n",
    "print(f\"🔴 Canales marcados como intrusión: {sum(predictions == -1)}/{len(predictions)}\")"
   ]
  },
  {
   "cell_type": "markdown",
   "id": "bebca314-4726-4b0b-bebe-f769c1e2eeef",
   "metadata": {},
   "source": [
    "# 📡 Fase 4: Simulación de Impacto"
   ]
  },
  {
   "cell_type": "code",
   "execution_count": 9,
   "id": "519b9e4e-010f-4a45-be4a-162390b827a4",
   "metadata": {},
   "outputs": [
    {
     "ename": "ModuleNotFoundError",
     "evalue": "No module named 'src'",
     "output_type": "error",
     "traceback": [
      "\u001b[1;31m---------------------------------------------------------------------------\u001b[0m",
      "\u001b[1;31mModuleNotFoundError\u001b[0m                       Traceback (most recent call last)",
      "Cell \u001b[1;32mIn[9], line 2\u001b[0m\n\u001b[0;32m      1\u001b[0m \u001b[38;5;66;03m# Reconstrucción de posibles escenarios\u001b[39;00m\n\u001b[1;32m----> 2\u001b[0m \u001b[38;5;28;01mfrom\u001b[39;00m \u001b[38;5;21;01msrc\u001b[39;00m\u001b[38;5;21;01m.\u001b[39;00m\u001b[38;5;21;01mvisualize\u001b[39;00m \u001b[38;5;28;01mimport\u001b[39;00m plot_attack_scenario\n\u001b[0;32m      4\u001b[0m scenarios \u001b[38;5;241m=\u001b[39m {\n\u001b[0;32m      5\u001b[0m     \u001b[38;5;124m'\u001b[39m\u001b[38;5;124mEscenario 1\u001b[39m\u001b[38;5;124m'\u001b[39m: \u001b[38;5;124m'\u001b[39m\u001b[38;5;124mReenvío de comandos no autorizados\u001b[39m\u001b[38;5;124m'\u001b[39m,\n\u001b[0;32m      6\u001b[0m     \u001b[38;5;124m'\u001b[39m\u001b[38;5;124mEscenario 2\u001b[39m\u001b[38;5;124m'\u001b[39m: \u001b[38;5;124m'\u001b[39m\u001b[38;5;124mInterceptación de telemetría\u001b[39m\u001b[38;5;124m'\u001b[39m,\n\u001b[0;32m      7\u001b[0m     \u001b[38;5;124m'\u001b[39m\u001b[38;5;124mEscenario 3\u001b[39m\u001b[38;5;124m'\u001b[39m: \u001b[38;5;124m'\u001b[39m\u001b[38;5;124mDoS en subsistema de comunicación\u001b[39m\u001b[38;5;124m'\u001b[39m\n\u001b[0;32m      8\u001b[0m }\n\u001b[0;32m     10\u001b[0m \u001b[38;5;28;01mfor\u001b[39;00m scenario \u001b[38;5;129;01min\u001b[39;00m scenarios:\n",
      "\u001b[1;31mModuleNotFoundError\u001b[0m: No module named 'src'"
     ]
    }
   ],
   "source": [
    "# Reconstrucción de posibles escenarios\n",
    "from src.visualize import plot_attack_scenario\n",
    "\n",
    "scenarios = {\n",
    "    'Escenario 1': 'Reenvío de comandos no autorizados',\n",
    "    'Escenario 2': 'Interceptación de telemetría',\n",
    "    'Escenario 3': 'DoS en subsistema de comunicación'\n",
    "}\n",
    "\n",
    "for scenario in scenarios:\n",
    "    plot_attack_scenario(\n",
    "        anomaly_data,\n",
    "        scenario_type=scenario,\n",
    "        save_path=f'figures/{scenario.lower().replace(\" \", \"_\")}.png'\n",
    "    )"
   ]
  },
  {
   "cell_type": "code",
   "execution_count": null,
   "id": "0be921ae-18af-4967-bfe9-d4965d18873b",
   "metadata": {},
   "outputs": [],
   "source": [
    "# Generar reporte automatizado\n",
    "from reports import generate_security_report\n",
    "\n",
    "generate_security_report(\n",
    "    anomaly_id=134,\n",
    "    critical_channels=critical_channels,\n",
    "    action_items=['Firmware Update', 'Key Rotation', 'Traffic Encryption'],\n",
    "    output_file='reports/CVE-2009-ESA-Anomaly134.pdf'\n",
    ")"
   ]
  }
 ],
 "metadata": {
  "kernelspec": {
   "display_name": "Python 3 (ipykernel)",
   "language": "python",
   "name": "python3"
  },
  "language_info": {
   "codemirror_mode": {
    "name": "ipython",
    "version": 3
   },
   "file_extension": ".py",
   "mimetype": "text/x-python",
   "name": "python",
   "nbconvert_exporter": "python",
   "pygments_lexer": "ipython3",
   "version": "3.12.5"
  }
 },
 "nbformat": 4,
 "nbformat_minor": 5
}
